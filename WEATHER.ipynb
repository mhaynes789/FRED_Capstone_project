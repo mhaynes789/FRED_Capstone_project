{
 "cells": [
  {
   "cell_type": "code",
   "execution_count": 14,
   "id": "1ea718e7-08e0-417d-bec8-ec7ae9e2ba15",
   "metadata": {},
   "outputs": [],
   "source": [
    "import requests\n",
    "from bs4 import BeautifulSoup\n",
    "\n",
    "# URL of the NOAA Storm Events CSV files, remember to check for updated links regularly \n",
    "base_url = \"https://www.ncei.noaa.gov/pub/data/swdi/stormevents/csvfiles/\"\n",
    "\n",
    "# Fetch the page content\n",
    "response = requests.get(base_url)\n",
    "soup = BeautifulSoup(response.text, 'html.parser')\n",
    "\n",
    "# Extract all .csv.gz file links\n",
    "file_links = [base_url + node.get('href') for node in soup.find_all('a') if node.get('href').endswith('.csv.gz')]\n"
   ]
  },
  {
   "cell_type": "code",
   "execution_count": 15,
   "id": "80705932-00ad-4522-a387-2fa21e26a7a7",
   "metadata": {},
   "outputs": [],
   "source": [
    "import re\n",
    "\n",
    "# Specify the years you're interested in, this will align with the range given in FRED file\n",
    "years = [str(year) for year in range(1996, 2025)]  # Adjust the range as needed\n",
    "\n",
    "# Filter for 'details' files for the specified years\n",
    "details_files = [link for link in file_links if 'details' in link and any(year in link for year in years)]\n"
   ]
  },
  {
   "cell_type": "code",
   "execution_count": null,
   "id": "32517fdd-c0fa-4428-8c4b-9cb9ea47b868",
   "metadata": {},
   "outputs": [],
   "source": [
    "import pandas as pd\n",
    "import os\n",
    "import gzip\n",
    "import shutil\n",
    "\n",
    "# Create a directory to store the downloaded files\n",
    "os.makedirs('data_raw', exist_ok=True)\n",
    "\n",
    "# an empty list to store DataFrames\n",
    "df_list = []\n",
    "\n",
    "for file_url in details_files:\n",
    "    # Extract the filename from the URL\n",
    "    filename = file_url.split('/')[-1]\n",
    "    compressed_path = os.path.join('data_raw', filename)\n",
    "    decompressed_path = compressed_path[:-3]  # Remove '.gz' extension\n",
    "\n",
    "    # Download the file\n",
    "    with requests.get(file_url, stream=True) as r:\n",
    "        with open(compressed_path, 'wb') as f:\n",
    "            shutil.copyfileobj(r.raw, f)\n",
    "\n",
    "    # Decompress the file\n",
    "    with gzip.open(compressed_path, 'rb') as f_in:\n",
    "        with open(decompressed_path, 'wb') as f_out:\n",
    "            shutil.copyfileobj(f_in, f_out)\n",
    "\n",
    "    # Load the CSV into a DataFrame and append to the list\n",
    "    df = pd.read_csv(decompressed_path, low_memory=False)\n",
    "    df_list.append(df)\n",
    "\n",
    "# Combine all DataFrames into a single DataFrame, this will make it easier as there are MANY files for the range \n",
    "combined_df = pd.concat(df_list, ignore_index=True)\n",
    "\n",
    "# Save the combined DataFrame to a CSV file\n",
    "combined_df.to_csv('data_raw/StormEvents_combined.csv', index=False)\n",
    "\n",
    "print(\"All files downloaded, decompressed, and combined successfully:)\")\n"
   ]
  },
  {
   "cell_type": "code",
   "execution_count": null,
   "id": "b4ce9d1b-7970-4db0-ad83-30bfac21d6ac",
   "metadata": {},
   "outputs": [],
   "source": []
  }
 ],
 "metadata": {
  "kernelspec": {
   "display_name": "Python 3 (ipykernel)",
   "language": "python",
   "name": "python3"
  },
  "language_info": {
   "codemirror_mode": {
    "name": "ipython",
    "version": 3
   },
   "file_extension": ".py",
   "mimetype": "text/x-python",
   "name": "python",
   "nbconvert_exporter": "python",
   "pygments_lexer": "ipython3",
   "version": "3.12.7"
  }
 },
 "nbformat": 4,
 "nbformat_minor": 5
}
