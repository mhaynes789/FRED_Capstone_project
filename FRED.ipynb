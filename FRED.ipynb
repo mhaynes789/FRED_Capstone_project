{
 "cells": [
  {
   "cell_type": "code",
   "execution_count": 150,
   "id": "c6e6b028-58ca-44e7-9306-2ff201ae90bc",
   "metadata": {},
   "outputs": [
    {
     "name": "stdout",
     "output_type": "stream",
     "text": [
      "Processing: SP500 (SP500)\n",
      "Saved: sp500_continuous.csv\n",
      "Processing: GDP (GDP)\n",
      "Saved: gdp_continuous.csv\n",
      "Processing: Unemployment (UNRATE)\n",
      "Saved: unemployment_continuous.csv\n",
      "Processing: CPI (CPIAUCSL)\n",
      "Saved: cpi_continuous.csv\n",
      "Processing: FedFundsRate (FEDFUNDS)\n",
      "Saved: fedfundsrate_continuous.csv\n",
      "Processing: 10YrTreasury (GS10)\n",
      "Saved: 10yrtreasury_continuous.csv\n",
      "Processing: ConsumerSentiment (UMCSENT)\n",
      "Saved: consumersentiment_continuous.csv\n",
      "Processing: RetailSales (RSAFS)\n",
      "Saved: retailsales_continuous.csv\n",
      "All series processed and saved!\n"
     ]
    }
   ],
   "source": [
    "# new code to include more data points\n",
    "\n",
    "import os\n",
    "import pandas as pd\n",
    "from fredapi import Fred\n",
    "\n",
    "# My FRED API key\n",
    "fred = Fred(api_key=\"602e3aa07900ce85a94929e74276b91f\")  # Replace with your real key\n",
    "\n",
    "# Create directory \n",
    "os.makedirs(\"data_clean\", exist_ok=True)\n",
    "\n",
    "# Define FRED series to download, we will use these later\n",
    "fred_series = {\n",
    "    \"SP500\": \"SP500\",\n",
    "    \"GDP\": \"GDP\",\n",
    "    \"Unemployment\": \"UNRATE\",\n",
    "    \"CPI\": \"CPIAUCSL\",\n",
    "    \"FedFundsRate\": \"FEDFUNDS\",\n",
    "    \"10YrTreasury\": \"GS10\",\n",
    "    \"ConsumerSentiment\": \"UMCSENT\",\n",
    "    \"RetailSales\": \"RSAFS\"\n",
    "}\n",
    "\n",
    "# Define the date range, I added three years, but I will most likely change this to reflect the date I began pulling data\n",
    "start_date = \"1977-01-01\"\n",
    "end_date = \"2027-09-30\"\n",
    "\n",
    "# Loop over each series\n",
    "for name, code in fred_series.items():\n",
    "    print(f\"Processing: {name} ({code})\")\n",
    "\n",
    "    # Download data\n",
    "    data = fred.get_series(code, observation_start=start_date, observation_end=end_date)\n",
    "    df = pd.DataFrame(data)\n",
    "    df.index.name = \"DATE\"\n",
    "    df.columns = [name]\n",
    "\n",
    "    # Create a full daily date range\n",
    "    full_index = pd.date_range(start=df.index.min(), end=df.index.max(), freq='D')\n",
    "\n",
    "    # Reindex to daily and forward-fill missing data, some dates are missing due to market being closed (holidays, weekends, etc) \n",
    "    df_continuous = df.reindex(full_index).ffill()\n",
    "\n",
    "    # Reset index name\n",
    "    df_continuous.index.name = \"DATE\"\n",
    "\n",
    "    # Save to CSV\n",
    "    df_continuous.to_csv(f\"data_clean/{name.lower()}_continuous.csv\")\n",
    "    print(f\"Saved: {name.lower()}_continuous.csv\")\n",
    "\n",
    "print(\"All series processed and saved!\")\n",
    "\n",
    "\n"
   ]
  },
  {
   "cell_type": "code",
   "execution_count": null,
   "id": "0f28a6e9-da52-4ad6-9fea-99b30f4acf35",
   "metadata": {},
   "outputs": [],
   "source": []
  }
 ],
 "metadata": {
  "kernelspec": {
   "display_name": "Python 3 (ipykernel)",
   "language": "python",
   "name": "python3"
  },
  "language_info": {
   "codemirror_mode": {
    "name": "ipython",
    "version": 3
   },
   "file_extension": ".py",
   "mimetype": "text/x-python",
   "name": "python",
   "nbconvert_exporter": "python",
   "pygments_lexer": "ipython3",
   "version": "3.12.7"
  }
 },
 "nbformat": 4,
 "nbformat_minor": 5
}
